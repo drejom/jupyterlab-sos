{
 "cells": [
  {
   "cell_type": "code",
   "execution_count": 1,
   "id": "f782cdc3-eb9e-4ed0-b4c2-b8e38a90b397",
   "metadata": {},
   "outputs": [
    {
     "data": {
      "text/html": [
       "'/usr/local/bin/jpl_config'"
      ],
      "text/latex": [
       "'/usr/local/bin/jpl\\_config'"
      ],
      "text/markdown": [
       "'/usr/local/bin/jpl_config'"
      ],
      "text/plain": [
       "[1] \"/usr/local/bin/jpl_config\""
      ]
     },
     "metadata": {},
     "output_type": "display_data"
    }
   ],
   "source": [
    "getwd()\n"
   ]
  },
  {
   "cell_type": "code",
   "execution_count": 2,
   "id": "bc94fadf-e1c7-44e7-ac3a-6f7a419e8917",
   "metadata": {},
   "outputs": [
    {
     "data": {
      "text/html": [
       "<style>\n",
       ".list-inline {list-style: none; margin:0; padding: 0}\n",
       ".list-inline>li {display: inline-block}\n",
       ".list-inline>li:not(:last-child)::after {content: \"\\00b7\"; padding: 0 .5ex}\n",
       "</style>\n",
       "<ol class=list-inline><li>'/usr/local/lib/R/site-library'</li><li>'/usr/local/lib/R/library'</li></ol>\n"
      ],
      "text/latex": [
       "\\begin{enumerate*}\n",
       "\\item '/usr/local/lib/R/site-library'\n",
       "\\item '/usr/local/lib/R/library'\n",
       "\\end{enumerate*}\n"
      ],
      "text/markdown": [
       "1. '/usr/local/lib/R/site-library'\n",
       "2. '/usr/local/lib/R/library'\n",
       "\n",
       "\n"
      ],
      "text/plain": [
       "[1] \"/usr/local/lib/R/site-library\" \"/usr/local/lib/R/library\"     "
      ]
     },
     "metadata": {},
     "output_type": "display_data"
    }
   ],
   "source": [
    ".libPaths()\n"
   ]
  },
  {
   "cell_type": "code",
   "execution_count": null,
   "id": "349fcaed-a51f-495a-81fe-04ff87d50f92",
   "metadata": {},
   "outputs": [],
   "source": []
  }
 ],
 "metadata": {
  "kernelspec": {
   "display_name": "R",
   "language": "R",
   "name": "ir"
  },
  "language_info": {
   "codemirror_mode": "r",
   "file_extension": ".r",
   "mimetype": "text/x-r-source",
   "name": "R",
   "pygments_lexer": "r",
   "version": "4.3.1"
  }
 },
 "nbformat": 4,
 "nbformat_minor": 5
}
